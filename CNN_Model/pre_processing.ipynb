{
 "cells": [
  {
   "cell_type": "code",
   "execution_count": 1,
   "metadata": {},
   "outputs": [],
   "source": [
    "import pandas as pd\n",
    "import seaborn as sns\n",
    "import matplotlib.pyplot as mp"
   ]
  },
  {
   "cell_type": "code",
   "execution_count": 2,
   "metadata": {},
   "outputs": [],
   "source": [
    "train = pd.read_csv(\"tweets.csv\")"
   ]
  },
  {
   "cell_type": "code",
   "execution_count": 3,
   "metadata": {},
   "outputs": [
    {
     "data": {
      "text/html": [
       "<div>\n",
       "<style scoped>\n",
       "    .dataframe tbody tr th:only-of-type {\n",
       "        vertical-align: middle;\n",
       "    }\n",
       "\n",
       "    .dataframe tbody tr th {\n",
       "        vertical-align: top;\n",
       "    }\n",
       "\n",
       "    .dataframe thead th {\n",
       "        text-align: right;\n",
       "    }\n",
       "</style>\n",
       "<table border=\"1\" class=\"dataframe\">\n",
       "  <thead>\n",
       "    <tr style=\"text-align: right;\">\n",
       "      <th></th>\n",
       "      <th>realdonaldtrump you are the man donald trump don’t listen to anyone else ever follow your own instincts and godgiven ability thank god for donald trump much love</th>\n",
       "      <th>FALSE</th>\n",
       "    </tr>\n",
       "  </thead>\n",
       "  <tbody>\n",
       "    <tr>\n",
       "      <td>count</td>\n",
       "      <td>5223</td>\n",
       "      <td>5223</td>\n",
       "    </tr>\n",
       "    <tr>\n",
       "      <td>unique</td>\n",
       "      <td>5151</td>\n",
       "      <td>2</td>\n",
       "    </tr>\n",
       "    <tr>\n",
       "      <td>top</td>\n",
       "      <td>realdonaldtrump drawtheline\\niwillnotjoin\\nthi...</td>\n",
       "      <td>False</td>\n",
       "    </tr>\n",
       "    <tr>\n",
       "      <td>freq</td>\n",
       "      <td>9</td>\n",
       "      <td>4458</td>\n",
       "    </tr>\n",
       "  </tbody>\n",
       "</table>\n",
       "</div>"
      ],
      "text/plain": [
       "       realdonaldtrump you are the man donald trump don’t listen to anyone else ever follow your own instincts and godgiven ability thank god for donald trump much love  \\\n",
       "count                                                5223                                                                                                                  \n",
       "unique                                               5151                                                                                                                  \n",
       "top     realdonaldtrump drawtheline\\niwillnotjoin\\nthi...                                                                                                                  \n",
       "freq                                                    9                                                                                                                  \n",
       "\n",
       "        FALSE  \n",
       "count    5223  \n",
       "unique      2  \n",
       "top     False  \n",
       "freq     4458  "
      ]
     },
     "execution_count": 3,
     "metadata": {},
     "output_type": "execute_result"
    }
   ],
   "source": [
    "train.describe()"
   ]
  },
  {
   "cell_type": "code",
   "execution_count": 4,
   "metadata": {},
   "outputs": [
    {
     "data": {
      "text/html": [
       "<div>\n",
       "<style scoped>\n",
       "    .dataframe tbody tr th:only-of-type {\n",
       "        vertical-align: middle;\n",
       "    }\n",
       "\n",
       "    .dataframe tbody tr th {\n",
       "        vertical-align: top;\n",
       "    }\n",
       "\n",
       "    .dataframe thead th {\n",
       "        text-align: right;\n",
       "    }\n",
       "</style>\n",
       "<table border=\"1\" class=\"dataframe\">\n",
       "  <thead>\n",
       "    <tr style=\"text-align: right;\">\n",
       "      <th></th>\n",
       "      <th>realdonaldtrump you are the man donald trump don’t listen to anyone else ever follow your own instincts and godgiven ability thank god for donald trump much love</th>\n",
       "      <th>FALSE</th>\n",
       "    </tr>\n",
       "  </thead>\n",
       "  <tbody>\n",
       "    <tr>\n",
       "      <td>0</td>\n",
       "      <td>donald trump extends china tariff deadline cit...</td>\n",
       "      <td>False</td>\n",
       "    </tr>\n",
       "    <tr>\n",
       "      <td>1</td>\n",
       "      <td>fras99 donald trump should be cancelled thegoo...</td>\n",
       "      <td>False</td>\n",
       "    </tr>\n",
       "    <tr>\n",
       "      <td>2</td>\n",
       "      <td>donald trump and benito mussolini  the atlanti...</td>\n",
       "      <td>False</td>\n",
       "    </tr>\n",
       "    <tr>\n",
       "      <td>3</td>\n",
       "      <td>us to delay china tariff increase donald trump...</td>\n",
       "      <td>False</td>\n",
       "    </tr>\n",
       "    <tr>\n",
       "      <td>4</td>\n",
       "      <td>bobnfn1 parscale thebradfordfile potus realdon...</td>\n",
       "      <td>False</td>\n",
       "    </tr>\n",
       "  </tbody>\n",
       "</table>\n",
       "</div>"
      ],
      "text/plain": [
       "  realdonaldtrump you are the man donald trump don’t listen to anyone else ever follow your own instincts and godgiven ability thank god for donald trump much love  \\\n",
       "0  donald trump extends china tariff deadline cit...                                                                                                                  \n",
       "1  fras99 donald trump should be cancelled thegoo...                                                                                                                  \n",
       "2  donald trump and benito mussolini  the atlanti...                                                                                                                  \n",
       "3  us to delay china tariff increase donald trump...                                                                                                                  \n",
       "4  bobnfn1 parscale thebradfordfile potus realdon...                                                                                                                  \n",
       "\n",
       "   FALSE  \n",
       "0  False  \n",
       "1  False  \n",
       "2  False  \n",
       "3  False  \n",
       "4  False  "
      ]
     },
     "execution_count": 4,
     "metadata": {},
     "output_type": "execute_result"
    }
   ],
   "source": [
    "train.head()"
   ]
  },
  {
   "cell_type": "code",
   "execution_count": 5,
   "metadata": {},
   "outputs": [
    {
     "data": {
      "text/html": [
       "<div>\n",
       "<style scoped>\n",
       "    .dataframe tbody tr th:only-of-type {\n",
       "        vertical-align: middle;\n",
       "    }\n",
       "\n",
       "    .dataframe tbody tr th {\n",
       "        vertical-align: top;\n",
       "    }\n",
       "\n",
       "    .dataframe thead th {\n",
       "        text-align: right;\n",
       "    }\n",
       "</style>\n",
       "<table border=\"1\" class=\"dataframe\">\n",
       "  <thead>\n",
       "    <tr style=\"text-align: right;\">\n",
       "      <th></th>\n",
       "      <th>Tweets</th>\n",
       "      <th>Classification</th>\n",
       "    </tr>\n",
       "  </thead>\n",
       "  <tbody>\n",
       "    <tr>\n",
       "      <td>0</td>\n",
       "      <td>donald trump extends china tariff deadline cit...</td>\n",
       "      <td>False</td>\n",
       "    </tr>\n",
       "    <tr>\n",
       "      <td>1</td>\n",
       "      <td>fras99 donald trump should be cancelled thegoo...</td>\n",
       "      <td>False</td>\n",
       "    </tr>\n",
       "    <tr>\n",
       "      <td>2</td>\n",
       "      <td>donald trump and benito mussolini  the atlanti...</td>\n",
       "      <td>False</td>\n",
       "    </tr>\n",
       "    <tr>\n",
       "      <td>3</td>\n",
       "      <td>us to delay china tariff increase donald trump...</td>\n",
       "      <td>False</td>\n",
       "    </tr>\n",
       "    <tr>\n",
       "      <td>4</td>\n",
       "      <td>bobnfn1 parscale thebradfordfile potus realdon...</td>\n",
       "      <td>False</td>\n",
       "    </tr>\n",
       "  </tbody>\n",
       "</table>\n",
       "</div>"
      ],
      "text/plain": [
       "                                              Tweets  Classification\n",
       "0  donald trump extends china tariff deadline cit...           False\n",
       "1  fras99 donald trump should be cancelled thegoo...           False\n",
       "2  donald trump and benito mussolini  the atlanti...           False\n",
       "3  us to delay china tariff increase donald trump...           False\n",
       "4  bobnfn1 parscale thebradfordfile potus realdon...           False"
      ]
     },
     "execution_count": 5,
     "metadata": {},
     "output_type": "execute_result"
    }
   ],
   "source": [
    "col = ['Tweets','Classification']\n",
    "train.columns = col\n",
    "train.head()"
   ]
  },
  {
   "cell_type": "code",
   "execution_count": 6,
   "metadata": {},
   "outputs": [
    {
     "data": {
      "text/html": [
       "<div>\n",
       "<style scoped>\n",
       "    .dataframe tbody tr th:only-of-type {\n",
       "        vertical-align: middle;\n",
       "    }\n",
       "\n",
       "    .dataframe tbody tr th {\n",
       "        vertical-align: top;\n",
       "    }\n",
       "\n",
       "    .dataframe thead th {\n",
       "        text-align: right;\n",
       "    }\n",
       "</style>\n",
       "<table border=\"1\" class=\"dataframe\">\n",
       "  <thead>\n",
       "    <tr style=\"text-align: right;\">\n",
       "      <th></th>\n",
       "      <th>Tweets</th>\n",
       "      <th>Classification</th>\n",
       "    </tr>\n",
       "  </thead>\n",
       "  <tbody>\n",
       "    <tr>\n",
       "      <td>0</td>\n",
       "      <td>donald trump extends china tariff deadline cit...</td>\n",
       "      <td>False</td>\n",
       "    </tr>\n",
       "    <tr>\n",
       "      <td>1</td>\n",
       "      <td>fras99 donald trump should be cancelled thegoo...</td>\n",
       "      <td>False</td>\n",
       "    </tr>\n",
       "    <tr>\n",
       "      <td>2</td>\n",
       "      <td>donald trump and benito mussolini  the atlanti...</td>\n",
       "      <td>False</td>\n",
       "    </tr>\n",
       "    <tr>\n",
       "      <td>3</td>\n",
       "      <td>us to delay china tariff increase donald trump...</td>\n",
       "      <td>False</td>\n",
       "    </tr>\n",
       "    <tr>\n",
       "      <td>4</td>\n",
       "      <td>bobnfn1 parscale thebradfordfile potus realdon...</td>\n",
       "      <td>False</td>\n",
       "    </tr>\n",
       "    <tr>\n",
       "      <td>...</td>\n",
       "      <td>...</td>\n",
       "      <td>...</td>\n",
       "    </tr>\n",
       "    <tr>\n",
       "      <td>5218</td>\n",
       "      <td>mayaamoody young expressive black girl in the ...</td>\n",
       "      <td>True</td>\n",
       "    </tr>\n",
       "    <tr>\n",
       "      <td>5219</td>\n",
       "      <td>if you had a bff like kylie jenner dont mess t...</td>\n",
       "      <td>False</td>\n",
       "    </tr>\n",
       "    <tr>\n",
       "      <td>5220</td>\n",
       "      <td>yeah just like trump only got a small loan of ...</td>\n",
       "      <td>True</td>\n",
       "    </tr>\n",
       "    <tr>\n",
       "      <td>5221</td>\n",
       "      <td>i’m doing the kylie jenner lip challenge hehe</td>\n",
       "      <td>False</td>\n",
       "    </tr>\n",
       "    <tr>\n",
       "      <td>5222</td>\n",
       "      <td>almost walked away with the whole kylie jenner...</td>\n",
       "      <td>False</td>\n",
       "    </tr>\n",
       "  </tbody>\n",
       "</table>\n",
       "<p>5223 rows × 2 columns</p>\n",
       "</div>"
      ],
      "text/plain": [
       "                                                 Tweets  Classification\n",
       "0     donald trump extends china tariff deadline cit...           False\n",
       "1     fras99 donald trump should be cancelled thegoo...           False\n",
       "2     donald trump and benito mussolini  the atlanti...           False\n",
       "3     us to delay china tariff increase donald trump...           False\n",
       "4     bobnfn1 parscale thebradfordfile potus realdon...           False\n",
       "...                                                 ...             ...\n",
       "5218  mayaamoody young expressive black girl in the ...            True\n",
       "5219  if you had a bff like kylie jenner dont mess t...           False\n",
       "5220  yeah just like trump only got a small loan of ...            True\n",
       "5221      i’m doing the kylie jenner lip challenge hehe           False\n",
       "5222  almost walked away with the whole kylie jenner...           False\n",
       "\n",
       "[5223 rows x 2 columns]"
      ]
     },
     "execution_count": 6,
     "metadata": {},
     "output_type": "execute_result"
    }
   ],
   "source": [
    "train"
   ]
  },
  {
   "cell_type": "code",
   "execution_count": 7,
   "metadata": {},
   "outputs": [],
   "source": [
    "train = train.astype(str)"
   ]
  },
  {
   "cell_type": "code",
   "execution_count": 8,
   "metadata": {},
   "outputs": [
    {
     "data": {
      "text/html": [
       "<div>\n",
       "<style scoped>\n",
       "    .dataframe tbody tr th:only-of-type {\n",
       "        vertical-align: middle;\n",
       "    }\n",
       "\n",
       "    .dataframe tbody tr th {\n",
       "        vertical-align: top;\n",
       "    }\n",
       "\n",
       "    .dataframe thead th {\n",
       "        text-align: right;\n",
       "    }\n",
       "</style>\n",
       "<table border=\"1\" class=\"dataframe\">\n",
       "  <thead>\n",
       "    <tr style=\"text-align: right;\">\n",
       "      <th></th>\n",
       "      <th>Tweets</th>\n",
       "      <th>Classification</th>\n",
       "    </tr>\n",
       "  </thead>\n",
       "  <tbody>\n",
       "    <tr>\n",
       "      <td>0</td>\n",
       "      <td>donald trump extends china tariff deadline cit...</td>\n",
       "      <td>False</td>\n",
       "    </tr>\n",
       "    <tr>\n",
       "      <td>1</td>\n",
       "      <td>fras99 donald trump should be cancelled thegoo...</td>\n",
       "      <td>False</td>\n",
       "    </tr>\n",
       "    <tr>\n",
       "      <td>2</td>\n",
       "      <td>donald trump and benito mussolini  the atlanti...</td>\n",
       "      <td>False</td>\n",
       "    </tr>\n",
       "    <tr>\n",
       "      <td>3</td>\n",
       "      <td>us to delay china tariff increase donald trump...</td>\n",
       "      <td>False</td>\n",
       "    </tr>\n",
       "    <tr>\n",
       "      <td>4</td>\n",
       "      <td>bobnfn1 parscale thebradfordfile potus realdon...</td>\n",
       "      <td>False</td>\n",
       "    </tr>\n",
       "    <tr>\n",
       "      <td>...</td>\n",
       "      <td>...</td>\n",
       "      <td>...</td>\n",
       "    </tr>\n",
       "    <tr>\n",
       "      <td>5218</td>\n",
       "      <td>mayaamoody young expressive black girl in the ...</td>\n",
       "      <td>True</td>\n",
       "    </tr>\n",
       "    <tr>\n",
       "      <td>5219</td>\n",
       "      <td>if you had a bff like kylie jenner dont mess t...</td>\n",
       "      <td>False</td>\n",
       "    </tr>\n",
       "    <tr>\n",
       "      <td>5220</td>\n",
       "      <td>yeah just like trump only got a small loan of ...</td>\n",
       "      <td>True</td>\n",
       "    </tr>\n",
       "    <tr>\n",
       "      <td>5221</td>\n",
       "      <td>i’m doing the kylie jenner lip challenge hehe</td>\n",
       "      <td>False</td>\n",
       "    </tr>\n",
       "    <tr>\n",
       "      <td>5222</td>\n",
       "      <td>almost walked away with the whole kylie jenner...</td>\n",
       "      <td>False</td>\n",
       "    </tr>\n",
       "  </tbody>\n",
       "</table>\n",
       "<p>5223 rows × 2 columns</p>\n",
       "</div>"
      ],
      "text/plain": [
       "                                                 Tweets Classification\n",
       "0     donald trump extends china tariff deadline cit...          False\n",
       "1     fras99 donald trump should be cancelled thegoo...          False\n",
       "2     donald trump and benito mussolini  the atlanti...          False\n",
       "3     us to delay china tariff increase donald trump...          False\n",
       "4     bobnfn1 parscale thebradfordfile potus realdon...          False\n",
       "...                                                 ...            ...\n",
       "5218  mayaamoody young expressive black girl in the ...           True\n",
       "5219  if you had a bff like kylie jenner dont mess t...          False\n",
       "5220  yeah just like trump only got a small loan of ...           True\n",
       "5221      i’m doing the kylie jenner lip challenge hehe          False\n",
       "5222  almost walked away with the whole kylie jenner...          False\n",
       "\n",
       "[5223 rows x 2 columns]"
      ]
     },
     "execution_count": 8,
     "metadata": {},
     "output_type": "execute_result"
    }
   ],
   "source": [
    "train"
   ]
  },
  {
   "cell_type": "code",
   "execution_count": 9,
   "metadata": {},
   "outputs": [
    {
     "data": {
      "text/html": [
       "<div>\n",
       "<style scoped>\n",
       "    .dataframe tbody tr th:only-of-type {\n",
       "        vertical-align: middle;\n",
       "    }\n",
       "\n",
       "    .dataframe tbody tr th {\n",
       "        vertical-align: top;\n",
       "    }\n",
       "\n",
       "    .dataframe thead th {\n",
       "        text-align: right;\n",
       "    }\n",
       "</style>\n",
       "<table border=\"1\" class=\"dataframe\">\n",
       "  <thead>\n",
       "    <tr style=\"text-align: right;\">\n",
       "      <th></th>\n",
       "      <th>Tweets</th>\n",
       "      <th>Classification</th>\n",
       "      <th>word_count</th>\n",
       "    </tr>\n",
       "  </thead>\n",
       "  <tbody>\n",
       "    <tr>\n",
       "      <td>0</td>\n",
       "      <td>donald trump extends china tariff deadline cit...</td>\n",
       "      <td>False</td>\n",
       "      <td>12</td>\n",
       "    </tr>\n",
       "    <tr>\n",
       "      <td>1</td>\n",
       "      <td>fras99 donald trump should be cancelled thegoo...</td>\n",
       "      <td>False</td>\n",
       "      <td>12</td>\n",
       "    </tr>\n",
       "    <tr>\n",
       "      <td>2</td>\n",
       "      <td>donald trump and benito mussolini  the atlanti...</td>\n",
       "      <td>False</td>\n",
       "      <td>11</td>\n",
       "    </tr>\n",
       "    <tr>\n",
       "      <td>3</td>\n",
       "      <td>us to delay china tariff increase donald trump...</td>\n",
       "      <td>False</td>\n",
       "      <td>9</td>\n",
       "    </tr>\n",
       "    <tr>\n",
       "      <td>4</td>\n",
       "      <td>bobnfn1 parscale thebradfordfile potus realdon...</td>\n",
       "      <td>False</td>\n",
       "      <td>23</td>\n",
       "    </tr>\n",
       "  </tbody>\n",
       "</table>\n",
       "</div>"
      ],
      "text/plain": [
       "                                              Tweets Classification  \\\n",
       "0  donald trump extends china tariff deadline cit...          False   \n",
       "1  fras99 donald trump should be cancelled thegoo...          False   \n",
       "2  donald trump and benito mussolini  the atlanti...          False   \n",
       "3  us to delay china tariff increase donald trump...          False   \n",
       "4  bobnfn1 parscale thebradfordfile potus realdon...          False   \n",
       "\n",
       "   word_count  \n",
       "0          12  \n",
       "1          12  \n",
       "2          11  \n",
       "3           9  \n",
       "4          23  "
      ]
     },
     "execution_count": 9,
     "metadata": {},
     "output_type": "execute_result"
    }
   ],
   "source": [
    "# Number of words\n",
    "train['word_count'] = train['Tweets'].apply(lambda x: len(str(x).split(\" \")))\n",
    "train[['Tweets','Classification','word_count']].head()"
   ]
  },
  {
   "cell_type": "code",
   "execution_count": 10,
   "metadata": {},
   "outputs": [
    {
     "data": {
      "text/html": [
       "<div>\n",
       "<style scoped>\n",
       "    .dataframe tbody tr th:only-of-type {\n",
       "        vertical-align: middle;\n",
       "    }\n",
       "\n",
       "    .dataframe tbody tr th {\n",
       "        vertical-align: top;\n",
       "    }\n",
       "\n",
       "    .dataframe thead th {\n",
       "        text-align: right;\n",
       "    }\n",
       "</style>\n",
       "<table border=\"1\" class=\"dataframe\">\n",
       "  <thead>\n",
       "    <tr style=\"text-align: right;\">\n",
       "      <th></th>\n",
       "      <th>Tweets</th>\n",
       "      <th>Classification</th>\n",
       "      <th>char_count</th>\n",
       "    </tr>\n",
       "  </thead>\n",
       "  <tbody>\n",
       "    <tr>\n",
       "      <td>0</td>\n",
       "      <td>donald trump extends china tariff deadline cit...</td>\n",
       "      <td>False</td>\n",
       "      <td>104</td>\n",
       "    </tr>\n",
       "    <tr>\n",
       "      <td>1</td>\n",
       "      <td>fras99 donald trump should be cancelled thegoo...</td>\n",
       "      <td>False</td>\n",
       "      <td>78</td>\n",
       "    </tr>\n",
       "    <tr>\n",
       "      <td>2</td>\n",
       "      <td>donald trump and benito mussolini  the atlanti...</td>\n",
       "      <td>False</td>\n",
       "      <td>84</td>\n",
       "    </tr>\n",
       "    <tr>\n",
       "      <td>3</td>\n",
       "      <td>us to delay china tariff increase donald trump...</td>\n",
       "      <td>False</td>\n",
       "      <td>65</td>\n",
       "    </tr>\n",
       "    <tr>\n",
       "      <td>4</td>\n",
       "      <td>bobnfn1 parscale thebradfordfile potus realdon...</td>\n",
       "      <td>False</td>\n",
       "      <td>189</td>\n",
       "    </tr>\n",
       "  </tbody>\n",
       "</table>\n",
       "</div>"
      ],
      "text/plain": [
       "                                              Tweets Classification  \\\n",
       "0  donald trump extends china tariff deadline cit...          False   \n",
       "1  fras99 donald trump should be cancelled thegoo...          False   \n",
       "2  donald trump and benito mussolini  the atlanti...          False   \n",
       "3  us to delay china tariff increase donald trump...          False   \n",
       "4  bobnfn1 parscale thebradfordfile potus realdon...          False   \n",
       "\n",
       "   char_count  \n",
       "0         104  \n",
       "1          78  \n",
       "2          84  \n",
       "3          65  \n",
       "4         189  "
      ]
     },
     "execution_count": 10,
     "metadata": {},
     "output_type": "execute_result"
    }
   ],
   "source": [
    "# Character Count\n",
    "train['char_count'] = train['Tweets'].str.len()\n",
    "train[['Tweets','Classification','char_count']].head()"
   ]
  },
  {
   "cell_type": "code",
   "execution_count": 11,
   "metadata": {},
   "outputs": [
    {
     "data": {
      "text/html": [
       "<div>\n",
       "<style scoped>\n",
       "    .dataframe tbody tr th:only-of-type {\n",
       "        vertical-align: middle;\n",
       "    }\n",
       "\n",
       "    .dataframe tbody tr th {\n",
       "        vertical-align: top;\n",
       "    }\n",
       "\n",
       "    .dataframe thead th {\n",
       "        text-align: right;\n",
       "    }\n",
       "</style>\n",
       "<table border=\"1\" class=\"dataframe\">\n",
       "  <thead>\n",
       "    <tr style=\"text-align: right;\">\n",
       "      <th></th>\n",
       "      <th>Tweets</th>\n",
       "      <th>avg_word</th>\n",
       "    </tr>\n",
       "  </thead>\n",
       "  <tbody>\n",
       "    <tr>\n",
       "      <td>0</td>\n",
       "      <td>donald trump extends china tariff deadline cit...</td>\n",
       "      <td>7.750000</td>\n",
       "    </tr>\n",
       "    <tr>\n",
       "      <td>1</td>\n",
       "      <td>fras99 donald trump should be cancelled thegoo...</td>\n",
       "      <td>5.583333</td>\n",
       "    </tr>\n",
       "    <tr>\n",
       "      <td>2</td>\n",
       "      <td>donald trump and benito mussolini  the atlanti...</td>\n",
       "      <td>7.200000</td>\n",
       "    </tr>\n",
       "    <tr>\n",
       "      <td>3</td>\n",
       "      <td>us to delay china tariff increase donald trump...</td>\n",
       "      <td>6.333333</td>\n",
       "    </tr>\n",
       "    <tr>\n",
       "      <td>4</td>\n",
       "      <td>bobnfn1 parscale thebradfordfile potus realdon...</td>\n",
       "      <td>7.260870</td>\n",
       "    </tr>\n",
       "  </tbody>\n",
       "</table>\n",
       "</div>"
      ],
      "text/plain": [
       "                                              Tweets  avg_word\n",
       "0  donald trump extends china tariff deadline cit...  7.750000\n",
       "1  fras99 donald trump should be cancelled thegoo...  5.583333\n",
       "2  donald trump and benito mussolini  the atlanti...  7.200000\n",
       "3  us to delay china tariff increase donald trump...  6.333333\n",
       "4  bobnfn1 parscale thebradfordfile potus realdon...  7.260870"
      ]
     },
     "execution_count": 11,
     "metadata": {},
     "output_type": "execute_result"
    }
   ],
   "source": [
    "#Average Word Length\n",
    "def avg_word(sentence):\n",
    "  words = sentence.split()\n",
    "  return (sum(len(word) for word in words)/len(words))\n",
    "\n",
    "train['avg_word'] = train['Tweets'].apply(lambda x: avg_word(x))\n",
    "train[['Tweets','avg_word']].head()"
   ]
  },
  {
   "cell_type": "code",
   "execution_count": 12,
   "metadata": {},
   "outputs": [
    {
     "name": "stderr",
     "output_type": "stream",
     "text": [
      "[nltk_data] Downloading package stopwords to\n",
      "[nltk_data]     C:\\Users\\DELL\\AppData\\Roaming\\nltk_data...\n",
      "[nltk_data]   Package stopwords is already up-to-date!\n"
     ]
    }
   ],
   "source": [
    "# Number of stopwords\n",
    "import nltk\n",
    "nltk.download('stopwords')\n",
    "from nltk.corpus import stopwords\n",
    "from nltk.stem.porter import PorterStemmer"
   ]
  },
  {
   "cell_type": "code",
   "execution_count": 13,
   "metadata": {},
   "outputs": [],
   "source": [
    "stop = stopwords.words('english')"
   ]
  },
  {
   "cell_type": "code",
   "execution_count": 14,
   "metadata": {},
   "outputs": [
    {
     "data": {
      "text/html": [
       "<div>\n",
       "<style scoped>\n",
       "    .dataframe tbody tr th:only-of-type {\n",
       "        vertical-align: middle;\n",
       "    }\n",
       "\n",
       "    .dataframe tbody tr th {\n",
       "        vertical-align: top;\n",
       "    }\n",
       "\n",
       "    .dataframe thead th {\n",
       "        text-align: right;\n",
       "    }\n",
       "</style>\n",
       "<table border=\"1\" class=\"dataframe\">\n",
       "  <thead>\n",
       "    <tr style=\"text-align: right;\">\n",
       "      <th></th>\n",
       "      <th>Tweets</th>\n",
       "      <th>stopwords</th>\n",
       "    </tr>\n",
       "  </thead>\n",
       "  <tbody>\n",
       "    <tr>\n",
       "      <td>0</td>\n",
       "      <td>donald trump extends china tariff deadline cit...</td>\n",
       "      <td>1</td>\n",
       "    </tr>\n",
       "    <tr>\n",
       "      <td>1</td>\n",
       "      <td>fras99 donald trump should be cancelled thegoo...</td>\n",
       "      <td>6</td>\n",
       "    </tr>\n",
       "    <tr>\n",
       "      <td>2</td>\n",
       "      <td>donald trump and benito mussolini  the atlanti...</td>\n",
       "      <td>2</td>\n",
       "    </tr>\n",
       "    <tr>\n",
       "      <td>3</td>\n",
       "      <td>us to delay china tariff increase donald trump...</td>\n",
       "      <td>1</td>\n",
       "    </tr>\n",
       "    <tr>\n",
       "      <td>4</td>\n",
       "      <td>bobnfn1 parscale thebradfordfile potus realdon...</td>\n",
       "      <td>3</td>\n",
       "    </tr>\n",
       "  </tbody>\n",
       "</table>\n",
       "</div>"
      ],
      "text/plain": [
       "                                              Tweets  stopwords\n",
       "0  donald trump extends china tariff deadline cit...          1\n",
       "1  fras99 donald trump should be cancelled thegoo...          6\n",
       "2  donald trump and benito mussolini  the atlanti...          2\n",
       "3  us to delay china tariff increase donald trump...          1\n",
       "4  bobnfn1 parscale thebradfordfile potus realdon...          3"
      ]
     },
     "execution_count": 14,
     "metadata": {},
     "output_type": "execute_result"
    }
   ],
   "source": [
    "train['stopwords'] = train['Tweets'].apply(lambda x: len([x for x in x.split() if x in stop]))\n",
    "train[['Tweets','stopwords']].head()"
   ]
  },
  {
   "cell_type": "code",
   "execution_count": 15,
   "metadata": {},
   "outputs": [
    {
     "data": {
      "text/html": [
       "<div>\n",
       "<style scoped>\n",
       "    .dataframe tbody tr th:only-of-type {\n",
       "        vertical-align: middle;\n",
       "    }\n",
       "\n",
       "    .dataframe tbody tr th {\n",
       "        vertical-align: top;\n",
       "    }\n",
       "\n",
       "    .dataframe thead th {\n",
       "        text-align: right;\n",
       "    }\n",
       "</style>\n",
       "<table border=\"1\" class=\"dataframe\">\n",
       "  <thead>\n",
       "    <tr style=\"text-align: right;\">\n",
       "      <th></th>\n",
       "      <th>Tweets</th>\n",
       "      <th>hastags</th>\n",
       "    </tr>\n",
       "  </thead>\n",
       "  <tbody>\n",
       "    <tr>\n",
       "      <td>0</td>\n",
       "      <td>donald trump extends china tariff deadline cit...</td>\n",
       "      <td>0</td>\n",
       "    </tr>\n",
       "    <tr>\n",
       "      <td>1</td>\n",
       "      <td>fras99 donald trump should be cancelled thegoo...</td>\n",
       "      <td>0</td>\n",
       "    </tr>\n",
       "    <tr>\n",
       "      <td>2</td>\n",
       "      <td>donald trump and benito mussolini  the atlanti...</td>\n",
       "      <td>0</td>\n",
       "    </tr>\n",
       "    <tr>\n",
       "      <td>3</td>\n",
       "      <td>us to delay china tariff increase donald trump...</td>\n",
       "      <td>0</td>\n",
       "    </tr>\n",
       "    <tr>\n",
       "      <td>4</td>\n",
       "      <td>bobnfn1 parscale thebradfordfile potus realdon...</td>\n",
       "      <td>0</td>\n",
       "    </tr>\n",
       "  </tbody>\n",
       "</table>\n",
       "</div>"
      ],
      "text/plain": [
       "                                              Tweets  hastags\n",
       "0  donald trump extends china tariff deadline cit...        0\n",
       "1  fras99 donald trump should be cancelled thegoo...        0\n",
       "2  donald trump and benito mussolini  the atlanti...        0\n",
       "3  us to delay china tariff increase donald trump...        0\n",
       "4  bobnfn1 parscale thebradfordfile potus realdon...        0"
      ]
     },
     "execution_count": 15,
     "metadata": {},
     "output_type": "execute_result"
    }
   ],
   "source": [
    "#Number of special characters\n",
    "train['hastags'] = train['Tweets'].apply(lambda x: len([x for x in x.split() if x.startswith('#')]))\n",
    "train[['Tweets','hastags']].head()"
   ]
  },
  {
   "cell_type": "code",
   "execution_count": 16,
   "metadata": {},
   "outputs": [
    {
     "data": {
      "text/plain": [
       "0    donald trump extends china tariff deadline cit...\n",
       "1    fras99 donald trump should be cancelled thegoo...\n",
       "2    donald trump and benito mussolini the atlantic...\n",
       "3    us to delay china tariff increase donald trump...\n",
       "4    bobnfn1 parscale thebradfordfile potus realdon...\n",
       "Name: Tweets, dtype: object"
      ]
     },
     "execution_count": 16,
     "metadata": {},
     "output_type": "execute_result"
    }
   ],
   "source": [
    "#Transform tweets to Lower Case\n",
    "train['Tweets'] = train['Tweets'].apply(lambda x: \" \".join(x.lower() for x in x.split()))\n",
    "train['Tweets'].head()"
   ]
  },
  {
   "cell_type": "code",
   "execution_count": 17,
   "metadata": {},
   "outputs": [
    {
     "data": {
      "text/plain": [
       "0    donald trump extends china tariff deadline cit...\n",
       "1    fras99 donald trump should be cancelled thegoo...\n",
       "2    donald trump and benito mussolini the atlantic...\n",
       "3    us to delay china tariff increase donald trump...\n",
       "4    bobnfn1 parscale thebradfordfile potus realdon...\n",
       "Name: Tweets, dtype: object"
      ]
     },
     "execution_count": 17,
     "metadata": {},
     "output_type": "execute_result"
    }
   ],
   "source": [
    "#Removing Punctuations\n",
    "train['Tweets'] = train['Tweets'].str.replace('[^\\w\\s]','')\n",
    "train['Tweets'].head()"
   ]
  },
  {
   "cell_type": "code",
   "execution_count": 18,
   "metadata": {},
   "outputs": [
    {
     "data": {
      "text/plain": [
       "0    donald trump extends china tariff deadline cit...\n",
       "1    fras99 donald trump cancelled thegoodgodabove ...\n",
       "2    donald trump benito mussolini atlantic excelle...\n",
       "3    us delay china tariff increase donald trump ht...\n",
       "4    bobnfn1 parscale thebradfordfile potus realdon...\n",
       "Name: Tweets, dtype: object"
      ]
     },
     "execution_count": 18,
     "metadata": {},
     "output_type": "execute_result"
    }
   ],
   "source": [
    "# Removing stopwords\n",
    "stop = stopwords.words('english')\n",
    "train['Tweets'] = train['Tweets'].apply(lambda x: \" \".join(x for x in x.split() if x not in stop))\n",
    "train['Tweets'].head()"
   ]
  },
  {
   "cell_type": "code",
   "execution_count": 19,
   "metadata": {},
   "outputs": [
    {
     "data": {
      "text/plain": [
       "kylie        2524\n",
       "trump        2461\n",
       "jenner       2237\n",
       "donald       2218\n",
       "de           1095\n",
       "jordyn        532\n",
       "president     469\n",
       "que           442\n",
       "like          431\n",
       "woods         419\n",
       "dtype: int64"
      ]
     },
     "execution_count": 19,
     "metadata": {},
     "output_type": "execute_result"
    }
   ],
   "source": [
    "#Common Word Removal. \n",
    "freq = pd.Series(' '.join(train['Tweets']).split()).value_counts()[:10]\n",
    "freq"
   ]
  },
  {
   "cell_type": "code",
   "execution_count": 20,
   "metadata": {},
   "outputs": [
    {
     "data": {
      "text/plain": [
       "0    extends china tariff deadline cites progress t...\n",
       "1                fras99 cancelled thegoodgodabove help\n",
       "2    benito mussolini atlantic excellent piece http...\n",
       "3    us delay china tariff increase httpstco6rvbor2btl\n",
       "4    bobnfn1 parscale thebradfordfile potus realdon...\n",
       "Name: Tweets, dtype: object"
      ]
     },
     "execution_count": 20,
     "metadata": {},
     "output_type": "execute_result"
    }
   ],
   "source": [
    "train['Tweets'] = train['Tweets'].apply(lambda x: \" \".join(x for x in x.split() if x not in freq))\n",
    "train['Tweets'].head()"
   ]
  },
  {
   "cell_type": "code",
   "execution_count": 21,
   "metadata": {},
   "outputs": [
    {
     "data": {
      "text/plain": [
       "0    extends china tariff deadline cites progress t...\n",
       "1                fras99 cancelled thegoodgodabove help\n",
       "2    benito mussolini atlantic excellent piece  tco...\n",
       "3        us delay china tariff increase  tco6rvbor2btl\n",
       "4    bobnfn1 parscale thebradfordfile potus realdon...\n",
       "Name: Tweets, dtype: object"
      ]
     },
     "execution_count": 21,
     "metadata": {},
     "output_type": "execute_result"
    }
   ],
   "source": [
    "train['Tweets'] = train['Tweets'].str.replace(\"https\", \" \")\n",
    "train['Tweets'].head()"
   ]
  },
  {
   "cell_type": "code",
   "execution_count": 22,
   "metadata": {},
   "outputs": [
    {
     "data": {
      "text/plain": [
       "la                 410\n",
       "realdonaldtrump    296\n",
       "con                293\n",
       "amp                286\n",
       "amiga              276\n",
       "                  ... \n",
       "pasqual67212823      1\n",
       "premosarah           1\n",
       "bilked               1\n",
       "dramat               1\n",
       "tcokhyiqhszha        1\n",
       "Length: 19115, dtype: int64"
      ]
     },
     "execution_count": 22,
     "metadata": {},
     "output_type": "execute_result"
    }
   ],
   "source": [
    "freq1 = pd.Series(' '.join(train['Tweets']).split()).value_counts()\n",
    "freq1"
   ]
  },
  {
   "cell_type": "code",
   "execution_count": 23,
   "metadata": {},
   "outputs": [
    {
     "data": {
      "text/plain": [
       "kurniawanbarry     1\n",
       "11917              1\n",
       "motivadores        1\n",
       "dressing           1\n",
       "tcoxpx3mnzunn      1\n",
       "                  ..\n",
       "pasqual67212823    1\n",
       "premosarah         1\n",
       "bilked             1\n",
       "dramat             1\n",
       "tcokhyiqhszha      1\n",
       "Length: 13186, dtype: int64"
      ]
     },
     "execution_count": 23,
     "metadata": {},
     "output_type": "execute_result"
    }
   ],
   "source": [
    "freq1 = pd.Series(' '.join(train['Tweets']).split()).value_counts()[-13186:]\n",
    "freq1"
   ]
  },
  {
   "cell_type": "code",
   "execution_count": 24,
   "metadata": {},
   "outputs": [],
   "source": [
    "freq1 = list(freq1.index)"
   ]
  },
  {
   "cell_type": "code",
   "execution_count": 25,
   "metadata": {},
   "outputs": [
    {
     "data": {
      "text/plain": [
       "0    extends china tariff deadline cites progress t...\n",
       "1                fras99 cancelled thegoodgodabove help\n",
       "2            benito mussolini atlantic excellent piece\n",
       "3                       us delay china tariff increase\n",
       "4    potus realdonaldtrump also quoted mussolini re...\n",
       "Name: Tweets, dtype: object"
      ]
     },
     "execution_count": 25,
     "metadata": {},
     "output_type": "execute_result"
    }
   ],
   "source": [
    "train['Tweets'] = train['Tweets'].apply(lambda x: \" \".join(x for x in x.split() if x not in freq1))\n",
    "train['Tweets'].head()"
   ]
  },
  {
   "cell_type": "code",
   "execution_count": 26,
   "metadata": {},
   "outputs": [
    {
     "data": {
      "text/plain": [
       "la                 410\n",
       "realdonaldtrump    296\n",
       "con                293\n",
       "amp                286\n",
       "amiga              276\n",
       "                  ... \n",
       "envolvido            2\n",
       "luulevat             2\n",
       "defeating            2\n",
       "claire               2\n",
       "unlikes              2\n",
       "Length: 5929, dtype: int64"
      ]
     },
     "execution_count": 26,
     "metadata": {},
     "output_type": "execute_result"
    }
   ],
   "source": [
    "check= pd.Series(' '.join(train['Tweets']).split()).value_counts()[:]\n",
    "check"
   ]
  },
  {
   "cell_type": "code",
   "execution_count": 27,
   "metadata": {},
   "outputs": [],
   "source": [
    "#Spelling Correction\n",
    "from textblob import TextBlob"
   ]
  },
  {
   "cell_type": "code",
   "execution_count": 35,
   "metadata": {},
   "outputs": [
    {
     "data": {
      "text/plain": [
       "0       extends china tariff deadline cities progress ...\n",
       "1                    fraser canceled thegoodgodabove help\n",
       "2               genito mussolini atlantic excellent piece\n",
       "3                          us delay china tariff increase\n",
       "4       pots realdonaldtrump also quoted mussolini rep...\n",
       "                              ...                        \n",
       "5218    young black girl bone couple years back non ha...\n",
       "5219                               off dont mess one time\n",
       "5220    yeah got small loan she famous sister leaned s...\n",
       "5221                                     in lip challenge\n",
       "5222           almost walked away whole make line tonight\n",
       "Name: Tweets, Length: 5223, dtype: object"
      ]
     },
     "execution_count": 35,
     "metadata": {},
     "output_type": "execute_result"
    }
   ],
   "source": [
    "train['Tweets'[:5223]].apply(lambda x: str(TextBlob(x).correct()))"
   ]
  },
  {
   "cell_type": "code",
   "execution_count": 30,
   "metadata": {},
   "outputs": [
    {
     "data": {
      "text/html": [
       "<div>\n",
       "<style scoped>\n",
       "    .dataframe tbody tr th:only-of-type {\n",
       "        vertical-align: middle;\n",
       "    }\n",
       "\n",
       "    .dataframe tbody tr th {\n",
       "        vertical-align: top;\n",
       "    }\n",
       "\n",
       "    .dataframe thead th {\n",
       "        text-align: right;\n",
       "    }\n",
       "</style>\n",
       "<table border=\"1\" class=\"dataframe\">\n",
       "  <thead>\n",
       "    <tr style=\"text-align: right;\">\n",
       "      <th></th>\n",
       "      <th>Tweets</th>\n",
       "      <th>Classification</th>\n",
       "      <th>word_count</th>\n",
       "      <th>char_count</th>\n",
       "      <th>avg_word</th>\n",
       "      <th>stopwords</th>\n",
       "      <th>hastags</th>\n",
       "    </tr>\n",
       "  </thead>\n",
       "  <tbody>\n",
       "    <tr>\n",
       "      <td>0</td>\n",
       "      <td>extends china tariff deadline cites progress t...</td>\n",
       "      <td>False</td>\n",
       "      <td>12</td>\n",
       "      <td>104</td>\n",
       "      <td>7.750000</td>\n",
       "      <td>1</td>\n",
       "      <td>0</td>\n",
       "    </tr>\n",
       "    <tr>\n",
       "      <td>1</td>\n",
       "      <td>fras99 cancelled thegoodgodabove help</td>\n",
       "      <td>False</td>\n",
       "      <td>12</td>\n",
       "      <td>78</td>\n",
       "      <td>5.583333</td>\n",
       "      <td>6</td>\n",
       "      <td>0</td>\n",
       "    </tr>\n",
       "    <tr>\n",
       "      <td>2</td>\n",
       "      <td>benito mussolini atlantic excellent piece</td>\n",
       "      <td>False</td>\n",
       "      <td>11</td>\n",
       "      <td>84</td>\n",
       "      <td>7.200000</td>\n",
       "      <td>2</td>\n",
       "      <td>0</td>\n",
       "    </tr>\n",
       "    <tr>\n",
       "      <td>3</td>\n",
       "      <td>us delay china tariff increase</td>\n",
       "      <td>False</td>\n",
       "      <td>9</td>\n",
       "      <td>65</td>\n",
       "      <td>6.333333</td>\n",
       "      <td>1</td>\n",
       "      <td>0</td>\n",
       "    </tr>\n",
       "    <tr>\n",
       "      <td>4</td>\n",
       "      <td>potus realdonaldtrump also quoted mussolini re...</td>\n",
       "      <td>False</td>\n",
       "      <td>23</td>\n",
       "      <td>189</td>\n",
       "      <td>7.260870</td>\n",
       "      <td>3</td>\n",
       "      <td>0</td>\n",
       "    </tr>\n",
       "    <tr>\n",
       "      <td>...</td>\n",
       "      <td>...</td>\n",
       "      <td>...</td>\n",
       "      <td>...</td>\n",
       "      <td>...</td>\n",
       "      <td>...</td>\n",
       "      <td>...</td>\n",
       "      <td>...</td>\n",
       "    </tr>\n",
       "    <tr>\n",
       "      <td>5218</td>\n",
       "      <td>young black girl bronx couple years back neon ...</td>\n",
       "      <td>True</td>\n",
       "      <td>43</td>\n",
       "      <td>252</td>\n",
       "      <td>4.975610</td>\n",
       "      <td>10</td>\n",
       "      <td>0</td>\n",
       "    </tr>\n",
       "    <tr>\n",
       "      <td>5219</td>\n",
       "      <td>bff dont mess one time</td>\n",
       "      <td>False</td>\n",
       "      <td>17</td>\n",
       "      <td>69</td>\n",
       "      <td>3.117647</td>\n",
       "      <td>8</td>\n",
       "      <td>0</td>\n",
       "    </tr>\n",
       "    <tr>\n",
       "      <td>5220</td>\n",
       "      <td>yeah got small loan shes famous sister leaked ...</td>\n",
       "      <td>True</td>\n",
       "      <td>52</td>\n",
       "      <td>257</td>\n",
       "      <td>4.019608</td>\n",
       "      <td>22</td>\n",
       "      <td>0</td>\n",
       "    </tr>\n",
       "    <tr>\n",
       "      <td>5221</td>\n",
       "      <td>im lip challenge</td>\n",
       "      <td>False</td>\n",
       "      <td>8</td>\n",
       "      <td>45</td>\n",
       "      <td>4.750000</td>\n",
       "      <td>2</td>\n",
       "      <td>0</td>\n",
       "    </tr>\n",
       "    <tr>\n",
       "      <td>5222</td>\n",
       "      <td>almost walked away whole make line tonight</td>\n",
       "      <td>False</td>\n",
       "      <td>13</td>\n",
       "      <td>74</td>\n",
       "      <td>4.692308</td>\n",
       "      <td>3</td>\n",
       "      <td>0</td>\n",
       "    </tr>\n",
       "  </tbody>\n",
       "</table>\n",
       "<p>5223 rows × 7 columns</p>\n",
       "</div>"
      ],
      "text/plain": [
       "                                                 Tweets Classification  \\\n",
       "0     extends china tariff deadline cites progress t...          False   \n",
       "1                 fras99 cancelled thegoodgodabove help          False   \n",
       "2             benito mussolini atlantic excellent piece          False   \n",
       "3                        us delay china tariff increase          False   \n",
       "4     potus realdonaldtrump also quoted mussolini re...          False   \n",
       "...                                                 ...            ...   \n",
       "5218  young black girl bronx couple years back neon ...           True   \n",
       "5219                             bff dont mess one time          False   \n",
       "5220  yeah got small loan shes famous sister leaked ...           True   \n",
       "5221                                   im lip challenge          False   \n",
       "5222         almost walked away whole make line tonight          False   \n",
       "\n",
       "      word_count  char_count  avg_word  stopwords  hastags  \n",
       "0             12         104  7.750000          1        0  \n",
       "1             12          78  5.583333          6        0  \n",
       "2             11          84  7.200000          2        0  \n",
       "3              9          65  6.333333          1        0  \n",
       "4             23         189  7.260870          3        0  \n",
       "...          ...         ...       ...        ...      ...  \n",
       "5218          43         252  4.975610         10        0  \n",
       "5219          17          69  3.117647          8        0  \n",
       "5220          52         257  4.019608         22        0  \n",
       "5221           8          45  4.750000          2        0  \n",
       "5222          13          74  4.692308          3        0  \n",
       "\n",
       "[5223 rows x 7 columns]"
      ]
     },
     "execution_count": 30,
     "metadata": {},
     "output_type": "execute_result"
    }
   ],
   "source": [
    "train"
   ]
  },
  {
   "cell_type": "code",
   "execution_count": 31,
   "metadata": {},
   "outputs": [
    {
     "data": {
      "text/html": [
       "<div>\n",
       "<style scoped>\n",
       "    .dataframe tbody tr th:only-of-type {\n",
       "        vertical-align: middle;\n",
       "    }\n",
       "\n",
       "    .dataframe tbody tr th {\n",
       "        vertical-align: top;\n",
       "    }\n",
       "\n",
       "    .dataframe thead th {\n",
       "        text-align: right;\n",
       "    }\n",
       "</style>\n",
       "<table border=\"1\" class=\"dataframe\">\n",
       "  <thead>\n",
       "    <tr style=\"text-align: right;\">\n",
       "      <th></th>\n",
       "      <th>word_count</th>\n",
       "      <th>char_count</th>\n",
       "      <th>avg_word</th>\n",
       "      <th>stopwords</th>\n",
       "      <th>hastags</th>\n",
       "    </tr>\n",
       "  </thead>\n",
       "  <tbody>\n",
       "    <tr>\n",
       "      <td>count</td>\n",
       "      <td>5223.000000</td>\n",
       "      <td>5223.000000</td>\n",
       "      <td>5223.000000</td>\n",
       "      <td>5223.000000</td>\n",
       "      <td>5223.0</td>\n",
       "    </tr>\n",
       "    <tr>\n",
       "      <td>mean</td>\n",
       "      <td>21.119089</td>\n",
       "      <td>132.032357</td>\n",
       "      <td>5.772404</td>\n",
       "      <td>5.734827</td>\n",
       "      <td>0.0</td>\n",
       "    </tr>\n",
       "    <tr>\n",
       "      <td>std</td>\n",
       "      <td>13.339970</td>\n",
       "      <td>78.804216</td>\n",
       "      <td>2.151856</td>\n",
       "      <td>6.174932</td>\n",
       "      <td>0.0</td>\n",
       "    </tr>\n",
       "    <tr>\n",
       "      <td>min</td>\n",
       "      <td>1.000000</td>\n",
       "      <td>12.000000</td>\n",
       "      <td>3.090909</td>\n",
       "      <td>0.000000</td>\n",
       "      <td>0.0</td>\n",
       "    </tr>\n",
       "    <tr>\n",
       "      <td>25%</td>\n",
       "      <td>12.000000</td>\n",
       "      <td>77.000000</td>\n",
       "      <td>4.704125</td>\n",
       "      <td>1.000000</td>\n",
       "      <td>0.0</td>\n",
       "    </tr>\n",
       "    <tr>\n",
       "      <td>50%</td>\n",
       "      <td>17.000000</td>\n",
       "      <td>110.000000</td>\n",
       "      <td>5.416667</td>\n",
       "      <td>3.000000</td>\n",
       "      <td>0.0</td>\n",
       "    </tr>\n",
       "    <tr>\n",
       "      <td>75%</td>\n",
       "      <td>29.000000</td>\n",
       "      <td>177.000000</td>\n",
       "      <td>6.285714</td>\n",
       "      <td>9.000000</td>\n",
       "      <td>0.0</td>\n",
       "    </tr>\n",
       "    <tr>\n",
       "      <td>max</td>\n",
       "      <td>102.000000</td>\n",
       "      <td>877.000000</td>\n",
       "      <td>73.500000</td>\n",
       "      <td>34.000000</td>\n",
       "      <td>0.0</td>\n",
       "    </tr>\n",
       "  </tbody>\n",
       "</table>\n",
       "</div>"
      ],
      "text/plain": [
       "        word_count   char_count     avg_word    stopwords  hastags\n",
       "count  5223.000000  5223.000000  5223.000000  5223.000000   5223.0\n",
       "mean     21.119089   132.032357     5.772404     5.734827      0.0\n",
       "std      13.339970    78.804216     2.151856     6.174932      0.0\n",
       "min       1.000000    12.000000     3.090909     0.000000      0.0\n",
       "25%      12.000000    77.000000     4.704125     1.000000      0.0\n",
       "50%      17.000000   110.000000     5.416667     3.000000      0.0\n",
       "75%      29.000000   177.000000     6.285714     9.000000      0.0\n",
       "max     102.000000   877.000000    73.500000    34.000000      0.0"
      ]
     },
     "execution_count": 31,
     "metadata": {},
     "output_type": "execute_result"
    }
   ],
   "source": [
    "train.describe()"
   ]
  },
  {
   "cell_type": "code",
   "execution_count": 34,
   "metadata": {},
   "outputs": [],
   "source": [
    "train.to_csv('cleaned_Data.csv', encoding='utf-8',index=False)"
   ]
  },
  {
   "cell_type": "code",
   "execution_count": null,
   "metadata": {},
   "outputs": [],
   "source": []
  }
 ],
 "metadata": {
  "kernelspec": {
   "display_name": "Python 3",
   "language": "python",
   "name": "python3"
  },
  "language_info": {
   "codemirror_mode": {
    "name": "ipython",
    "version": 3
   },
   "file_extension": ".py",
   "mimetype": "text/x-python",
   "name": "python",
   "nbconvert_exporter": "python",
   "pygments_lexer": "ipython3",
   "version": "3.7.4"
  }
 },
 "nbformat": 4,
 "nbformat_minor": 2
}
